{
  "cells": [
    {
      "cell_type": "markdown",
      "metadata": {
        "id": "view-in-github",
        "colab_type": "text"
      },
      "source": [
        "<a href=\"https://colab.research.google.com/github/akshay-akm/codsoft/blob/main/churnprediction.ipynb\" target=\"_parent\"><img src=\"https://colab.research.google.com/assets/colab-badge.svg\" alt=\"Open In Colab\"/></a>"
      ]
    },
    {
      "cell_type": "code",
      "source": [
        "import numpy as np\n",
        "\n",
        "import pandas as pd\n",
        "\n",
        "import matplotlib.pyplot as plt\n",
        "\n",
        "from sklearn.preprocessing import LabelEncoder\n",
        "\n",
        "from sklearn.model_selection import train_test_split\n",
        "\n",
        "from sklearn.linear_model import LogisticRegression\n",
        "\n",
        "from sklearn.ensemble import RandomForestClassifier,GradientBoostingClassifier\n",
        "\n",
        "from sklearn.metrics import accuracy_score,classification_report\n",
        "\n",
        "import warnings\n",
        "\n",
        "warnings.filterwarnings('ignore')"
      ],
      "metadata": {
        "id": "Hjmfdccruqpu"
      },
      "execution_count": null,
      "outputs": []
    },
    {
      "cell_type": "code",
      "source": [
        "data = pd.read_csv('/content/Churn_Modelling.csv')\n"
      ],
      "metadata": {
        "id": "SKz1n8jhuqm6"
      },
      "execution_count": null,
      "outputs": []
    },
    {
      "cell_type": "code",
      "source": [
        "data.info()"
      ],
      "metadata": {
        "id": "MglMBJpYuqkU"
      },
      "execution_count": null,
      "outputs": []
    },
    {
      "cell_type": "code",
      "source": [
        "data.isnull().sum()"
      ],
      "metadata": {
        "id": "c18qWJ_Tuqhg"
      },
      "execution_count": null,
      "outputs": []
    },
    {
      "cell_type": "code",
      "source": [
        "data.head(3)"
      ],
      "metadata": {
        "id": "NNa9tjs8uqdN"
      },
      "execution_count": null,
      "outputs": []
    },
    {
      "cell_type": "code",
      "source": [
        "data.drop(columns = ['RowNumber','CustomerId','Surname'],inplace = True)\n"
      ],
      "metadata": {
        "id": "2o-EL1TAuqal"
      },
      "execution_count": null,
      "outputs": []
    },
    {
      "cell_type": "code",
      "source": [
        "corr_result = {}\n",
        "\n",
        "for col in data.columns:\n",
        "\n",
        "    if data[col].dtype != 'object' and col != 'Exited':\n",
        "\n",
        "        correlation = data[col].corr(data['Exited'])\n",
        "\n",
        "        corr_result[col] = correlation\n",
        "\n",
        "corr_result"
      ],
      "metadata": {
        "id": "NKLhOcinuqYQ"
      },
      "execution_count": null,
      "outputs": []
    },
    {
      "cell_type": "code",
      "source": [
        "le = LabelEncoder()\n",
        "\n",
        "data['Geography'] = le.fit_transform(data['Geography'])\n",
        "\n",
        "data['Gender'] = le.fit_transform(data['Gender'])"
      ],
      "metadata": {
        "id": "30iTH0n9uqVa"
      },
      "execution_count": null,
      "outputs": []
    },
    {
      "cell_type": "code",
      "source": [],
      "metadata": {
        "id": "Nj5GjkpquqSn"
      },
      "execution_count": null,
      "outputs": []
    },
    {
      "cell_type": "code",
      "source": [
        "data.head(3)"
      ],
      "metadata": {
        "id": "g6OZdgypvZ0g"
      },
      "execution_count": null,
      "outputs": []
    },
    {
      "cell_type": "code",
      "source": [
        "data['Exited'].value_counts()"
      ],
      "metadata": {
        "id": "REhiqiZIvZxW"
      },
      "execution_count": null,
      "outputs": []
    },
    {
      "cell_type": "code",
      "source": [
        "plt.bar(data['Exited'].unique(),data['Exited'].value_counts(),width = 0.2)\n",
        "\n",
        "plt.xlabel('Stayed/Exited')\n",
        "\n",
        "plt.ylabel('No of customers')\n",
        "\n",
        "plt.show()"
      ],
      "metadata": {
        "id": "knuOA319vguA"
      },
      "execution_count": null,
      "outputs": []
    },
    {
      "cell_type": "code",
      "source": [
        "x_data = data.iloc[:,:-1].values\n",
        "\n",
        "y_data = data.iloc[:,-1].values"
      ],
      "metadata": {
        "id": "aoMeXBmNvj86"
      },
      "execution_count": null,
      "outputs": []
    },
    {
      "cell_type": "code",
      "source": [
        "x_train,x_test,y_train,y_test = train_test_split(x_data,y_data,test_size = 0.3,random_state = 42, stratify = data['Exited'])"
      ],
      "metadata": {
        "id": "yg5T1K5Cvj5a"
      },
      "execution_count": null,
      "outputs": []
    },
    {
      "cell_type": "code",
      "source": [
        "log_reg = LogisticRegression()\n",
        "\n",
        "log_reg.fit(x_train,y_train)"
      ],
      "metadata": {
        "id": "fR6k_jYzvj1w"
      },
      "execution_count": null,
      "outputs": []
    },
    {
      "cell_type": "code",
      "source": [
        "log_pred = log_reg.predict(x_train)\n",
        "\n",
        "print(\"Accuracy Score: \",round(accuracy_score(y_train,log_pred),3))\n",
        "\n",
        "print(\"\\nClassification Report:\\n\",classification_report(y_train,log_pred))"
      ],
      "metadata": {
        "id": "mKovKXNBvjxJ"
      },
      "execution_count": null,
      "outputs": []
    },
    {
      "cell_type": "code",
      "source": [
        "rfc = RandomForestClassifier(n_estimators=50)\n",
        "\n",
        "rfc.fit(x_train,y_train)"
      ],
      "metadata": {
        "id": "z6uDcdnPvjtx"
      },
      "execution_count": null,
      "outputs": []
    },
    {
      "cell_type": "code",
      "source": [
        "rfc_pred = rfc.predict(x_train)\n",
        "\n",
        "print(\"Accuracy Score: \",round(accuracy_score(y_train,rfc_pred),3))\n",
        "\n",
        "print(\"\\nClassification Report:\\n\",classification_report(y_train,rfc_pred))"
      ],
      "metadata": {
        "id": "L1PrySbHvjos"
      },
      "execution_count": null,
      "outputs": []
    },
    {
      "cell_type": "code",
      "source": [
        "gb = GradientBoostingClassifier(n_estimators=50,learning_rate=0.01)\n",
        "\n",
        "gb.fit(x_train,y_train)"
      ],
      "metadata": {
        "id": "TpYWUYHCvji2"
      },
      "execution_count": null,
      "outputs": []
    },
    {
      "cell_type": "code",
      "source": [
        "gb_pred = gb.predict(x_train)\n",
        "\n",
        "print(\"Accuracy Score: \",round(accuracy_score(y_train,gb_pred),3))\n",
        "\n",
        "print(\"\\nClassification Report:\\n\",classification_report(y_train,gb_pred))"
      ],
      "metadata": {
        "id": "ERAPWqiOvjeM"
      },
      "execution_count": null,
      "outputs": []
    },
    {
      "cell_type": "code",
      "source": [
        "model_result = {'Model':['Logistic Regression','Random Forest Classifier','Gradient Boosting Classifier'],'Accuracy':['79.6%','100%','79.7%']}\n",
        "\n",
        "result_df = pd.DataFrame(model_result)\n",
        "\n",
        "result_df"
      ],
      "metadata": {
        "id": "vLZWBI_ivgkY"
      },
      "execution_count": null,
      "outputs": []
    },
    {
      "cell_type": "code",
      "source": [
        "test_pred = gb.predict(x_test)\n",
        "\n",
        "print(\"Accuracy Score: \",round(accuracy_score(y_test,test_pred),3))\n",
        "\n",
        "print(\"\\nClassification Report:\\n\",classification_report(y_test,test_pred))"
      ],
      "metadata": {
        "id": "NfgyOM1PwLXS"
      },
      "execution_count": null,
      "outputs": []
    }
  ],
  "metadata": {
    "colab": {
      "private_outputs": true,
      "provenance": [],
      "include_colab_link": true
    },
    "kernelspec": {
      "display_name": "Python 3",
      "name": "python3"
    }
  },
  "nbformat": 4,
  "nbformat_minor": 0
}