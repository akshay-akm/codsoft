{
  "cells": [
    {
      "cell_type": "markdown",
      "metadata": {
        "id": "view-in-github",
        "colab_type": "text"
      },
      "source": [
        "<a href=\"https://colab.research.google.com/github/akshay-akm/codsoft/blob/main/Copy_of_numerical_data_bad_values.ipynb\" target=\"_parent\"><img src=\"https://colab.research.google.com/assets/colab-badge.svg\" alt=\"Open In Colab\"/></a>"
      ]
    },
    {
      "cell_type": "code",
      "source": [
        "#@title Copyright 2023 Google LLC. Double-click for license information.\n",
        "# Licensed under the Apache License, Version 2.0 (the \"License\");\n",
        "# you may not use this file except in compliance with the License.\n",
        "# You may obtain a copy of the License at\n",
        "#\n",
        "# https://www.apache.org/licenses/LICENSE-2.0\n",
        "#\n",
        "# Unless required by applicable law or agreed to in writing, software\n",
        "# distributed under the License is distributed on an \"AS IS\" BASIS,\n",
        "# WITHOUT WARRANTIES OR CONDITIONS OF ANY KIND, either express or implied.\n",
        "# See the License for the specific language governing permissions and\n",
        "# limitations under the License."
      ],
      "metadata": {
        "cellView": "form",
        "id": "-o-X5uIc7WJS"
      },
      "execution_count": null,
      "outputs": []
    },
    {
      "cell_type": "code",
      "source": [
        "import numpy as np\n",
        "import matplotlib.pyplot as plt\n",
        "import pandas as pd\n",
        "import seaborn as sns\n",
        "from sklearn.preprocessing import LabelEncoder\n",
        "\n",
        "import warnings\n",
        "warnings.filterwarnings('ignore')\n",
        "\n",
        "plt.style.use('ggplot')"
      ],
      "metadata": {
        "id": "4uvNDzuiES4-"
      },
      "execution_count": null,
      "outputs": []
    },
    {
      "cell_type": "code",
      "source": [
        "df = pd.read_csv('/content/spam.csv', encoding='latin-1')"
      ],
      "metadata": {
        "id": "ja5v1lGTEc1m"
      },
      "execution_count": null,
      "outputs": []
    },
    {
      "cell_type": "code",
      "source": [
        "df.head()"
      ],
      "metadata": {
        "id": "OBCwUxsOFcEt"
      },
      "execution_count": null,
      "outputs": []
    },
    {
      "cell_type": "code",
      "source": [
        "df.shape"
      ],
      "metadata": {
        "id": "cFipkCq3FiAR"
      },
      "execution_count": null,
      "outputs": []
    },
    {
      "cell_type": "code",
      "source": [
        "print(df.duplicated().sum())\n",
        "print(df.isnull().sum())\n",
        "print(df.info())"
      ],
      "metadata": {
        "id": "qtCVnwxkFnIl"
      },
      "execution_count": null,
      "outputs": []
    },
    {
      "cell_type": "code",
      "source": [
        "df.rename(columns={'v1':'target','v2':'texts' }, inplace=True)\n",
        "df.drop(columns=['Unnamed: 2','Unnamed: 3','Unnamed: 4'], inplace=True)"
      ],
      "metadata": {
        "id": "lChTof7WFskW"
      },
      "execution_count": null,
      "outputs": []
    },
    {
      "cell_type": "code",
      "source": [
        "mp = {'spam':0,\n",
        "      'ham':1}\n",
        "df['target'] =  df['target'].map(mp)"
      ],
      "metadata": {
        "id": "qtHSF8yZFw0v"
      },
      "execution_count": null,
      "outputs": []
    },
    {
      "cell_type": "code",
      "source": [
        "df = df.drop_duplicates(keep='first')"
      ],
      "metadata": {
        "id": "yYK4oMHAFxPW"
      },
      "execution_count": null,
      "outputs": []
    },
    {
      "cell_type": "code",
      "source": [
        "import nltk\n",
        "\n",
        "nltk.download('punkt')\n",
        "nltk.download('punkt_tab')"
      ],
      "metadata": {
        "id": "ZopRhy-JF_co"
      },
      "execution_count": null,
      "outputs": []
    },
    {
      "cell_type": "code",
      "source": [
        "df['text_char'] = df['texts'].apply(len)\n",
        "df['word_num'] = df['texts'].apply(lambda x : len(nltk.word_tokenize(x)))\n",
        "df['sent_num'] = df['texts'].apply(lambda x : len(nltk.sent_tokenize(x)))"
      ],
      "metadata": {
        "id": "1FW8k9EDGAIF"
      },
      "execution_count": null,
      "outputs": []
    },
    {
      "cell_type": "code",
      "source": [
        "df.head()"
      ],
      "metadata": {
        "id": "vyPIYYPbGBDt"
      },
      "execution_count": null,
      "outputs": []
    },
    {
      "cell_type": "code",
      "source": [
        "from nltk.corpus import stopwords\n",
        "import nltk\n",
        "nltk.download('stopwords')\n",
        "import string\n",
        "from nltk.stem.porter import PorterStemmer\n",
        "\n",
        "pc = PorterStemmer()"
      ],
      "metadata": {
        "id": "uKWjA-4JGLa8"
      },
      "execution_count": null,
      "outputs": []
    },
    {
      "cell_type": "code",
      "source": [
        "def text_process(text):\n",
        "    text = text.lower()\n",
        "    text = nltk.word_tokenize(text)\n",
        "    y= []\n",
        "    for i in text :\n",
        "        if i.isalnum():\n",
        "            y.append(i)\n",
        "\n",
        "    text = y[:]\n",
        "    y.clear()\n",
        "\n",
        "    for i in text :\n",
        "        if i not in stopwords.words('english') and i not in string.punctuation:\n",
        "            y.append(i)\n",
        "\n",
        "    text = y[:]\n",
        "    y.clear()\n",
        "    for i in text:\n",
        "        y.append(pc.stem(i))\n",
        "    return \" \".join(y)"
      ],
      "metadata": {
        "id": "pVEyM0rbGSuX"
      },
      "execution_count": null,
      "outputs": []
    },
    {
      "cell_type": "code",
      "source": [
        "text_process('I am testing This as the function is working correctly or not , TesT %??')"
      ],
      "metadata": {
        "id": "SLP3AiljGc1g"
      },
      "execution_count": null,
      "outputs": []
    },
    {
      "cell_type": "code",
      "source": [
        "df['Transformed_text'] = df['texts'].apply(text_process)"
      ],
      "metadata": {
        "id": "wewszNEXGj6B"
      },
      "execution_count": null,
      "outputs": []
    },
    {
      "cell_type": "code",
      "source": [
        "df.head(1)"
      ],
      "metadata": {
        "id": "9ULt9dX3GpiG"
      },
      "execution_count": null,
      "outputs": []
    },
    {
      "cell_type": "code",
      "source": [
        "df[df['target'] == 0].describe().T"
      ],
      "metadata": {
        "id": "pXd5iS_XGu39"
      },
      "execution_count": null,
      "outputs": []
    },
    {
      "cell_type": "code",
      "source": [
        "df[df['target'] == 1].describe().T"
      ],
      "metadata": {
        "id": "HXriB85TG7Zh"
      },
      "execution_count": null,
      "outputs": []
    },
    {
      "cell_type": "code",
      "source": [
        "df['target'].value_counts().plot.pie(autopct = \"%1.1f%%\", explode = [0.25, 0], shadow = True)"
      ],
      "metadata": {
        "id": "dS2r0ICgHBl_"
      },
      "execution_count": null,
      "outputs": []
    },
    {
      "cell_type": "code",
      "source": [
        "df.head(2)"
      ],
      "metadata": {
        "id": "SYaLuzW3HQT-"
      },
      "execution_count": null,
      "outputs": []
    },
    {
      "cell_type": "code",
      "source": [
        "eda = [\n",
        "    'text_char', 'word_num', 'sent_num'\n",
        "]\n",
        "for i in eda:\n",
        "    plt.figure(figsize=(10,4))\n",
        "    sns.histplot(data = df , x= i, palette='viridis', hue=\"target\")\n",
        "    plt.title(f'Hist plot of {i}')\n",
        "    plt.tight_layout()\n",
        "    plt.show()"
      ],
      "metadata": {
        "id": "AY_FV7B8HUPX"
      },
      "execution_count": null,
      "outputs": []
    },
    {
      "cell_type": "code",
      "source": [
        "df.corr(numeric_only=True)"
      ],
      "metadata": {
        "id": "u2H-dCaoHX6T"
      },
      "execution_count": null,
      "outputs": []
    },
    {
      "cell_type": "code",
      "source": [
        "from wordcloud import WordCloud\n",
        "plt.figure(figsize=(8,6))\n",
        "wc = WordCloud(width = 1000, height = 1000, min_font_size = 12, background_color = 'white')\n",
        "figu = wc.generate(df[df['target']== 0]['Transformed_text'].str.cat(sep=' '))\n",
        "plt.tight_layout()\n",
        "plt.imshow(figu)"
      ],
      "metadata": {
        "id": "cF036YKbHfnN"
      },
      "execution_count": null,
      "outputs": []
    },
    {
      "cell_type": "code",
      "source": [
        "plt.figure(figsize=(8,6))\n",
        "wc = WordCloud(width = 1000, height = 1000, min_font_size = 12, background_color = 'white')\n",
        "figu = wc.generate(df[df['target']== 1]['Transformed_text'].str.cat(sep=' '))\n",
        "plt.tight_layout()\n",
        "plt.imshow(figu)"
      ],
      "metadata": {
        "id": "lokXv8leHyKY"
      },
      "execution_count": null,
      "outputs": []
    },
    {
      "cell_type": "code",
      "source": [
        "spam_a = []\n",
        "for msg in df[df['target']==0]['Transformed_text'].tolist():\n",
        "    for word in msg.split():\n",
        "        spam_a.append(word)"
      ],
      "metadata": {
        "id": "Hyp9P4nKHx3y"
      },
      "execution_count": null,
      "outputs": []
    },
    {
      "cell_type": "code",
      "source": [
        "from collections import Counter\n",
        "plt.figure(figsize=(8,6))\n",
        "sns.barplot(x = pd.DataFrame(Counter(spam_a).most_common(25))[0],y= pd.DataFrame(Counter(spam_a).most_common(25))[1])\n",
        "plt.tight_layout()\n",
        "plt.xticks(rotation = 90)\n",
        "plt.show()"
      ],
      "metadata": {
        "id": "sE2sbeLnHxuk"
      },
      "execution_count": null,
      "outputs": []
    },
    {
      "cell_type": "code",
      "source": [
        "ham_a = []\n",
        "for msg in df[df['target']==1]['Transformed_text'].tolist():\n",
        "    for word in msg.split():\n",
        "        ham_a.append(word)\n",
        "plt.figure(figsize=(8,6))\n",
        "sns.barplot(x = pd.DataFrame(Counter(ham_a).most_common(25))[0],y= pd.DataFrame(Counter(ham_a).most_common(25))[1])\n",
        "plt.tight_layout()\n",
        "plt.xticks(rotation = 90)\n",
        "plt.show()"
      ],
      "metadata": {
        "id": "HyhT1rNYHxi8"
      },
      "execution_count": null,
      "outputs": []
    }
  ],
  "metadata": {
    "colab": {
      "private_outputs": true,
      "provenance": [],
      "include_colab_link": true
    },
    "kernelspec": {
      "display_name": "Python 3",
      "name": "python3"
    }
  },
  "nbformat": 4,
  "nbformat_minor": 0
}