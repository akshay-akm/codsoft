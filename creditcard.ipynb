{
  "cells": [
    {
      "cell_type": "markdown",
      "metadata": {
        "id": "view-in-github",
        "colab_type": "text"
      },
      "source": [
        "<a href=\"https://colab.research.google.com/github/akshay-akm/codsoft/blob/main/creditcard.ipynb\" target=\"_parent\"><img src=\"https://colab.research.google.com/assets/colab-badge.svg\" alt=\"Open In Colab\"/></a>"
      ]
    },
    {
      "cell_type": "code",
      "source": [
        "#@title Copyright 2023 Google LLC. Double-click for license information.\n",
        "# Licensed under the Apache License, Version 2.0 (the \"License\");\n",
        "# you may not use this file except in compliance with the License.\n",
        "# You may obtain a copy of the License at\n",
        "#\n",
        "# https://www.apache.org/licenses/LICENSE-2.0\n",
        "#\n",
        "# Unless required by applicable law or agreed to in writing, software\n",
        "# distributed under the License is distributed on an \"AS IS\" BASIS,\n",
        "# WITHOUT WARRANTIES OR CONDITIONS OF ANY KIND, either express or implied.\n",
        "# See the License for the specific language governing permissions and\n",
        "# limitations under the License."
      ],
      "metadata": {
        "cellView": "form",
        "id": "-o-X5uIc7WJS"
      },
      "execution_count": null,
      "outputs": []
    },
    {
      "cell_type": "code",
      "source": [
        "import numpy as np\n",
        "\n",
        "import pandas as pd\n",
        "\n",
        "import matplotlib.pyplot as plt\n",
        "\n",
        "\n",
        "\n",
        "from sklearn.preprocessing import LabelEncoder\n",
        "\n",
        "from sklearn.model_selection import train_test_split\n",
        "\n",
        "from sklearn.linear_model import LogisticRegression\n",
        "\n",
        "from sklearn.tree import DecisionTreeClassifier\n",
        "\n",
        "from sklearn.ensemble import RandomForestClassifier\n",
        "\n",
        "from sklearn.metrics import accuracy_score,classification_report\n",
        "\n",
        "\n",
        "\n",
        "import warnings\n",
        "\n",
        "warnings.filterwarnings('ignore')"
      ],
      "metadata": {
        "id": "orisoLAzmNGV"
      },
      "execution_count": null,
      "outputs": []
    },
    {
      "cell_type": "code",
      "source": [
        "train_data = pd.read_csv('/content/fraudTest.csv.zip')\n",
        "\n",
        "test_data = pd.read_csv('/content/fraudTest.csv.zip')"
      ],
      "metadata": {
        "id": "SqUwEeSUnUd4"
      },
      "execution_count": null,
      "outputs": []
    },
    {
      "cell_type": "code",
      "source": [
        "train_data.info()"
      ],
      "metadata": {
        "id": "tlbyizwfnUbp"
      },
      "execution_count": null,
      "outputs": []
    },
    {
      "cell_type": "code",
      "source": [
        "train_data.isnull().sum()"
      ],
      "metadata": {
        "id": "pBlBN6wtnUUS"
      },
      "execution_count": null,
      "outputs": []
    },
    {
      "cell_type": "code",
      "source": [
        "train_data.head(3)"
      ],
      "metadata": {
        "id": "VPOMUHNRnUSW"
      },
      "execution_count": null,
      "outputs": []
    },
    {
      "cell_type": "code",
      "source": [
        "test_data.info()"
      ],
      "metadata": {
        "id": "DiBQwNBznUQJ"
      },
      "execution_count": null,
      "outputs": []
    },
    {
      "cell_type": "code",
      "source": [
        "test_data.isnull().sum()"
      ],
      "metadata": {
        "id": "d7-PvpmGnkSF"
      },
      "execution_count": null,
      "outputs": []
    },
    {
      "cell_type": "code",
      "source": [
        "test_data.head(3)"
      ],
      "metadata": {
        "id": "tlkWhe2onkPN"
      },
      "execution_count": null,
      "outputs": []
    },
    {
      "cell_type": "code",
      "source": [
        "data = pd.concat([train_data,test_data])"
      ],
      "metadata": {
        "id": "dRCtt5BDntbr"
      },
      "execution_count": null,
      "outputs": []
    },
    {
      "cell_type": "code",
      "source": [
        "data.shape"
      ],
      "metadata": {
        "id": "uAkL-wSWntV3"
      },
      "execution_count": null,
      "outputs": []
    },
    {
      "cell_type": "code",
      "source": [
        "corr_result = {}\n",
        "for col in data.columns:\n",
        "\n",
        "    if data[col].dtype != 'object' and col != 'is_fraud':\n",
        "\n",
        "        corr = data[col].corr(data['is_fraud'])\n",
        "\n",
        "        corr_result[col] = corr\n",
        "corr_result"
      ],
      "metadata": {
        "id": "qhwshwa-ntT4"
      },
      "execution_count": null,
      "outputs": []
    },
    {
      "cell_type": "code",
      "source": [
        "data.drop(columns=['Unnamed: 0','trans_date_trans_time','first','last','gender','street','job','dob','trans_num'],inplace=True)"
      ],
      "metadata": {
        "id": "c81hULxdn4gr"
      },
      "execution_count": null,
      "outputs": []
    },
    {
      "cell_type": "code",
      "source": [
        "data.info()"
      ],
      "metadata": {
        "id": "ygdlRqPqn4an"
      },
      "execution_count": null,
      "outputs": []
    },
    {
      "cell_type": "code",
      "source": [
        "data['is_fraud'].value_counts()"
      ],
      "metadata": {
        "id": "NzKFbDoKn4X6"
      },
      "execution_count": null,
      "outputs": []
    },
    {
      "cell_type": "code",
      "source": [
        "plt.bar(data['is_fraud'].unique(),data['is_fraud'].value_counts(),width = 0.2)\n",
        "\n",
        "plt.xlabel('Legitimate/Fraud')\n",
        "\n",
        "plt.ylabel('No of transactions')\n",
        "\n",
        "plt.show()"
      ],
      "metadata": {
        "id": "oD2gKlkfnkMZ"
      },
      "execution_count": null,
      "outputs": []
    },
    {
      "cell_type": "code",
      "source": [
        "legitimate = data[data['is_fraud'] == 0]\n",
        "\n",
        "fraud = data[data['is_fraud'] == 1]"
      ],
      "metadata": {
        "id": "BC-l9Td4oFVb"
      },
      "execution_count": null,
      "outputs": []
    },
    {
      "cell_type": "code",
      "source": [
        "legitimate = legitimate.sample(n = len(fraud))\n",
        "\n",
        "legitimate.shape"
      ],
      "metadata": {
        "id": "IClw-ip8oFOy"
      },
      "execution_count": null,
      "outputs": []
    },
    {
      "cell_type": "code",
      "source": [
        "fraud.shape"
      ],
      "metadata": {
        "id": "dkwPFo-DoFKP"
      },
      "execution_count": null,
      "outputs": []
    },
    {
      "cell_type": "code",
      "source": [
        "data = pd.concat([legitimate,fraud])"
      ],
      "metadata": {
        "id": "ZJ84D3MxoFHC"
      },
      "execution_count": null,
      "outputs": []
    },
    {
      "cell_type": "code",
      "source": [
        "plt.bar(data['is_fraud'].unique(),data['is_fraud'].value_counts(),width = 0.2)\n",
        "\n",
        "plt.xlabel('Legitimate/Fraud')\n",
        "\n",
        "plt.ylabel('No of transactions')\n",
        "\n",
        "plt.show()"
      ],
      "metadata": {
        "id": "GA491gIGoSJY"
      },
      "execution_count": null,
      "outputs": []
    },
    {
      "cell_type": "code",
      "source": [
        "le = LabelEncoder()\n",
        "\n",
        "data['merchant'] = le.fit_transform(data['merchant'])\n",
        "\n",
        "data['category'] = le.fit_transform(data['category'])\n",
        "\n",
        "data['city'] = le.fit_transform(data['city'])\n",
        "\n",
        "data['state'] = le.fit_transform(data['state'])"
      ],
      "metadata": {
        "id": "RMjQxFUmoSGv"
      },
      "execution_count": null,
      "outputs": []
    },
    {
      "cell_type": "code",
      "source": [
        "data.info()"
      ],
      "metadata": {
        "id": "Xvu68S4RoSEu"
      },
      "execution_count": null,
      "outputs": []
    },
    {
      "cell_type": "code",
      "source": [
        "x_data = data.iloc[:,:-1].values\n",
        "\n",
        "y_data = data.iloc[:,-1].values"
      ],
      "metadata": {
        "id": "3J4TbMyEoYdB"
      },
      "execution_count": null,
      "outputs": []
    },
    {
      "cell_type": "code",
      "source": [
        "x_train,x_test,y_train,y_test = train_test_split(x_data,y_data,test_size=0.3,random_state=42,shuffle=True)"
      ],
      "metadata": {
        "id": "JIf35PFVoYa0"
      },
      "execution_count": null,
      "outputs": []
    },
    {
      "cell_type": "code",
      "source": [
        "log_reg = LogisticRegression()\n",
        "\n",
        "log_reg.fit(x_train,y_train)"
      ],
      "metadata": {
        "id": "cltPq_J4oYXo"
      },
      "execution_count": null,
      "outputs": []
    },
    {
      "cell_type": "code",
      "source": [
        "log_pred = log_reg.predict(x_train)\n",
        "\n",
        "print(\"Accuracy score: \",round(accuracy_score(y_train,log_pred),3))\n",
        "\n",
        "print(\"Classification report:\\n\",classification_report(y_train,log_pred))"
      ],
      "metadata": {
        "id": "2ou12jKToSCO"
      },
      "execution_count": null,
      "outputs": []
    },
    {
      "cell_type": "code",
      "source": [
        "dt = DecisionTreeClassifier()\n",
        "\n",
        "dt.fit(x_train,y_train)"
      ],
      "metadata": {
        "id": "MOrr9xv6ojW5"
      },
      "execution_count": null,
      "outputs": []
    },
    {
      "cell_type": "code",
      "source": [
        "dt_pred = dt.predict(x_train)\n",
        "\n",
        "print(\"Accuracy score: \",round(accuracy_score(y_train,dt_pred),3))\n",
        "\n",
        "print(\"Classification report:\\n\",classification_report(y_train,dt_pred))"
      ],
      "metadata": {
        "id": "wtfh7C_5oj5u"
      },
      "execution_count": null,
      "outputs": []
    },
    {
      "cell_type": "code",
      "source": [
        "rfc = RandomForestClassifier(n_estimators = 50)\n",
        "\n",
        "rfc.fit(x_train,y_train)"
      ],
      "metadata": {
        "id": "cyD2p-floj2m"
      },
      "execution_count": null,
      "outputs": []
    },
    {
      "cell_type": "code",
      "source": [
        "rfc_pred = rfc.predict(x_train)\n",
        "\n",
        "print(\"Accuracy score: \",round(accuracy_score(y_train,rfc_pred),3))\n",
        "\n",
        "print(\"Classification report:\\n\",classification_report(y_train,rfc_pred))"
      ],
      "metadata": {
        "id": "E7_wpN7UojS_"
      },
      "execution_count": null,
      "outputs": []
    },
    {
      "cell_type": "code",
      "source": [
        "test_pred = log_reg.predict(x_test)\n",
        "\n",
        "print(\"Accuracy score: \",round(accuracy_score(y_test,test_pred),3))\n",
        "\n",
        "print(\"Classification report:\\n\",classification_report(y_test,test_pred))"
      ],
      "metadata": {
        "id": "7tzwjcL3oR9v"
      },
      "execution_count": null,
      "outputs": []
    }
  ],
  "metadata": {
    "colab": {
      "private_outputs": true,
      "provenance": [],
      "include_colab_link": true
    },
    "kernelspec": {
      "display_name": "Python 3",
      "name": "python3"
    }
  },
  "nbformat": 4,
  "nbformat_minor": 0
}